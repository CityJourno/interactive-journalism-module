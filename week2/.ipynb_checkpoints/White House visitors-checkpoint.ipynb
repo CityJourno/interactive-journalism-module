{
 "cells": [
  {
   "cell_type": "markdown",
   "metadata": {},
   "source": [
    "Importing modules first:"
   ]
  },
  {
   "cell_type": "code",
   "execution_count": 17,
   "metadata": {},
   "outputs": [],
   "source": [
    "import pandas as pd\n",
    "import matplotlib.pyplot as plt"
   ]
  },
  {
   "cell_type": "markdown",
   "metadata": {},
   "source": [
    "Load our data in and have a quick look with `head()`"
   ]
  },
  {
   "cell_type": "code",
   "execution_count": 51,
   "metadata": {},
   "outputs": [
    {
     "data": {
      "text/html": [
       "<div>\n",
       "<style scoped>\n",
       "    .dataframe tbody tr th:only-of-type {\n",
       "        vertical-align: middle;\n",
       "    }\n",
       "\n",
       "    .dataframe tbody tr th {\n",
       "        vertical-align: top;\n",
       "    }\n",
       "\n",
       "    .dataframe thead th {\n",
       "        text-align: right;\n",
       "    }\n",
       "</style>\n",
       "<table border=\"1\" class=\"dataframe\">\n",
       "  <thead>\n",
       "    <tr style=\"text-align: right;\">\n",
       "      <th></th>\n",
       "      <th>date</th>\n",
       "      <th>place</th>\n",
       "      <th>title</th>\n",
       "      <th>name</th>\n",
       "      <th>type</th>\n",
       "      <th>organisation</th>\n",
       "      <th>gender</th>\n",
       "      <th>race</th>\n",
       "      <th>party</th>\n",
       "      <th>nationality</th>\n",
       "      <th>note</th>\n",
       "    </tr>\n",
       "  </thead>\n",
       "  <tbody>\n",
       "    <tr>\n",
       "      <th>0</th>\n",
       "      <td>2017-01-20</td>\n",
       "      <td>White House</td>\n",
       "      <td>Secretary of Transportation</td>\n",
       "      <td>Elaine Chao</td>\n",
       "      <td>Cabinet member</td>\n",
       "      <td>NaN</td>\n",
       "      <td>Asian</td>\n",
       "      <td>Asian</td>\n",
       "      <td>Republican</td>\n",
       "      <td>NaN</td>\n",
       "      <td>NaN</td>\n",
       "    </tr>\n",
       "    <tr>\n",
       "      <th>1</th>\n",
       "      <td>2017-01-20</td>\n",
       "      <td>White House</td>\n",
       "      <td>Former President</td>\n",
       "      <td>Barack Obama</td>\n",
       "      <td>U.S. politician</td>\n",
       "      <td>NaN</td>\n",
       "      <td>Black</td>\n",
       "      <td>Black</td>\n",
       "      <td>Democrat</td>\n",
       "      <td>NaN</td>\n",
       "      <td>NaN</td>\n",
       "    </tr>\n",
       "    <tr>\n",
       "      <th>2</th>\n",
       "      <td>2017-01-20</td>\n",
       "      <td>White House</td>\n",
       "      <td>Former First Lady</td>\n",
       "      <td>Michelle Obama</td>\n",
       "      <td>NaN</td>\n",
       "      <td>NaN</td>\n",
       "      <td>Black</td>\n",
       "      <td>Black</td>\n",
       "      <td>Democrat</td>\n",
       "      <td>NaN</td>\n",
       "      <td>NaN</td>\n",
       "    </tr>\n",
       "    <tr>\n",
       "      <th>3</th>\n",
       "      <td>2017-01-20</td>\n",
       "      <td>White House</td>\n",
       "      <td>Senate Minority Leader</td>\n",
       "      <td>Chuck Schumer</td>\n",
       "      <td>U.S. politician</td>\n",
       "      <td>NaN</td>\n",
       "      <td>White</td>\n",
       "      <td>White</td>\n",
       "      <td>Democrat</td>\n",
       "      <td>NaN</td>\n",
       "      <td>NaN</td>\n",
       "    </tr>\n",
       "    <tr>\n",
       "      <th>4</th>\n",
       "      <td>2017-01-20</td>\n",
       "      <td>White House</td>\n",
       "      <td>House Minority Leader</td>\n",
       "      <td>Nancy Pelosi</td>\n",
       "      <td>U.S. politician</td>\n",
       "      <td>NaN</td>\n",
       "      <td>White</td>\n",
       "      <td>White</td>\n",
       "      <td>Democrat</td>\n",
       "      <td>NaN</td>\n",
       "      <td>NaN</td>\n",
       "    </tr>\n",
       "  </tbody>\n",
       "</table>\n",
       "</div>"
      ],
      "text/plain": [
       "         date        place                        title            name  \\\n",
       "0  2017-01-20  White House  Secretary of Transportation     Elaine Chao   \n",
       "1  2017-01-20  White House             Former President    Barack Obama   \n",
       "2  2017-01-20  White House            Former First Lady  Michelle Obama   \n",
       "3  2017-01-20  White House       Senate Minority Leader   Chuck Schumer   \n",
       "4  2017-01-20  White House        House Minority Leader    Nancy Pelosi   \n",
       "\n",
       "              type organisation gender   race       party nationality note  \n",
       "0   Cabinet member          NaN  Asian  Asian  Republican         NaN  NaN  \n",
       "1  U.S. politician          NaN  Black  Black    Democrat         NaN  NaN  \n",
       "2              NaN          NaN  Black  Black    Democrat         NaN  NaN  \n",
       "3  U.S. politician          NaN  White  White    Democrat         NaN  NaN  \n",
       "4  U.S. politician          NaN  White  White    Democrat         NaN  NaN  "
      ]
     },
     "execution_count": 51,
     "metadata": {},
     "output_type": "execute_result"
    }
   ],
   "source": [
    "df = pd.read_csv(\"./data/white-house-visitors.csv\")\n",
    "df.head()"
   ]
  },
  {
   "cell_type": "markdown",
   "metadata": {},
   "source": [
    "We can use `describe()` to see more about our data.\n",
    "In this example:\n",
    "    * 7 unique `race`\n",
    "    * 3 unique `parties`\n",
    "    * 69 unique `nationalities`\n",
    "    * Most frequently visit by CEOs"
   ]
  },
  {
   "cell_type": "code",
   "execution_count": 18,
   "metadata": {},
   "outputs": [
    {
     "data": {
      "text/html": [
       "<div>\n",
       "<style scoped>\n",
       "    .dataframe tbody tr th:only-of-type {\n",
       "        vertical-align: middle;\n",
       "    }\n",
       "\n",
       "    .dataframe tbody tr th {\n",
       "        vertical-align: top;\n",
       "    }\n",
       "\n",
       "    .dataframe thead th {\n",
       "        text-align: right;\n",
       "    }\n",
       "</style>\n",
       "<table border=\"1\" class=\"dataframe\">\n",
       "  <thead>\n",
       "    <tr style=\"text-align: right;\">\n",
       "      <th></th>\n",
       "      <th>date</th>\n",
       "      <th>place</th>\n",
       "      <th>title</th>\n",
       "      <th>name</th>\n",
       "      <th>type</th>\n",
       "      <th>organisation</th>\n",
       "      <th>gender</th>\n",
       "      <th>race</th>\n",
       "      <th>party</th>\n",
       "      <th>nationality</th>\n",
       "      <th>note</th>\n",
       "    </tr>\n",
       "  </thead>\n",
       "  <tbody>\n",
       "    <tr>\n",
       "      <th>count</th>\n",
       "      <td>3673</td>\n",
       "      <td>3656</td>\n",
       "      <td>3527</td>\n",
       "      <td>3673</td>\n",
       "      <td>2701</td>\n",
       "      <td>1076</td>\n",
       "      <td>3510</td>\n",
       "      <td>3510</td>\n",
       "      <td>1275</td>\n",
       "      <td>429</td>\n",
       "      <td>180</td>\n",
       "    </tr>\n",
       "    <tr>\n",
       "      <th>unique</th>\n",
       "      <td>301</td>\n",
       "      <td>92</td>\n",
       "      <td>1075</td>\n",
       "      <td>2057</td>\n",
       "      <td>8</td>\n",
       "      <td>671</td>\n",
       "      <td>7</td>\n",
       "      <td>7</td>\n",
       "      <td>3</td>\n",
       "      <td>69</td>\n",
       "      <td>95</td>\n",
       "    </tr>\n",
       "    <tr>\n",
       "      <th>top</th>\n",
       "      <td>2017-04-26</td>\n",
       "      <td>White House</td>\n",
       "      <td>CEO</td>\n",
       "      <td>Rex Tillerson</td>\n",
       "      <td>U.S. politician</td>\n",
       "      <td>Air Force Academy Football</td>\n",
       "      <td>White</td>\n",
       "      <td>White</td>\n",
       "      <td>Republican</td>\n",
       "      <td>Japan</td>\n",
       "      <td>Medal of Honor Recipient</td>\n",
       "    </tr>\n",
       "    <tr>\n",
       "      <th>freq</th>\n",
       "      <td>178</td>\n",
       "      <td>2631</td>\n",
       "      <td>168</td>\n",
       "      <td>72</td>\n",
       "      <td>1183</td>\n",
       "      <td>46</td>\n",
       "      <td>2860</td>\n",
       "      <td>2860</td>\n",
       "      <td>1043</td>\n",
       "      <td>35</td>\n",
       "      <td>25</td>\n",
       "    </tr>\n",
       "  </tbody>\n",
       "</table>\n",
       "</div>"
      ],
      "text/plain": [
       "              date        place title           name             type  \\\n",
       "count         3673         3656  3527           3673             2701   \n",
       "unique         301           92  1075           2057                8   \n",
       "top     2017-04-26  White House   CEO  Rex Tillerson  U.S. politician   \n",
       "freq           178         2631   168             72             1183   \n",
       "\n",
       "                      organisation gender   race       party nationality  \\\n",
       "count                         1076   3510   3510        1275         429   \n",
       "unique                         671      7      7           3          69   \n",
       "top     Air Force Academy Football  White  White  Republican       Japan   \n",
       "freq                            46   2860   2860        1043          35   \n",
       "\n",
       "                            note  \n",
       "count                        180  \n",
       "unique                        95  \n",
       "top     Medal of Honor Recipient  \n",
       "freq                          25  "
      ]
     },
     "execution_count": 18,
     "metadata": {},
     "output_type": "execute_result"
    }
   ],
   "source": [
    "df.describe()"
   ]
  },
  {
   "cell_type": "markdown",
   "metadata": {},
   "source": [
    "### Gender study\n",
    "\n",
    "We have a quick look at what's in `gender`\n",
    "And draw a histogram of unique counts showing that, mostly, the WH meets with white people"
   ]
  },
  {
   "cell_type": "code",
   "execution_count": 49,
   "metadata": {},
   "outputs": [
    {
     "name": "stdout",
     "output_type": "stream",
     "text": [
      "count      3510\n",
      "unique        7\n",
      "top       White\n",
      "freq       2860\n",
      "Name: gender, dtype: object\n"
     ]
    },
    {
     "data": {
      "text/plain": [
       "<matplotlib.axes._subplots.AxesSubplot at 0x11f1feba8>"
      ]
     },
     "execution_count": 49,
     "metadata": {},
     "output_type": "execute_result"
    },
    {
     "data": {
      "image/png": "[encoded data removed]",
      "text/plain": [
       "<matplotlib.figure.Figure at 0x10ed93550>"
      ]
     },
     "metadata": {},
     "output_type": "display_data"
    }
   ],
   "source": [
    "print(df['gender'].describe())\n",
    "plt.xticks(rotation='vertical')\n",
    "df['gender'].hist()"
   ]
  },
  {
   "cell_type": "markdown",
   "metadata": {},
   "source": [
    "### Type of visitors\n",
    "\n",
    "Similar process"
   ]
  },
  {
   "cell_type": "code",
   "execution_count": 48,
   "metadata": {},
   "outputs": [
    {
     "name": "stdout",
     "output_type": "stream",
     "text": [
      "1183               1\n",
      "2701               1\n",
      "U.S. politician    1\n",
      "8                  1\n",
      "Name: type, dtype: int64\n"
     ]
    },
    {
     "data": {
      "text/plain": [
       "<matplotlib.axes._subplots.AxesSubplot at 0x126294400>"
      ]
     },
     "execution_count": 48,
     "metadata": {},
     "output_type": "execute_result"
    },
    {
     "data": {
      "image/png": "[encoded data removed]",
      "text/plain": [
       "<matplotlib.figure.Figure at 0x1127cff98>"
      ]
     },
     "metadata": {},
     "output_type": "display_data"
    }
   ],
   "source": [
    "print(df['type'].describe().value_counts().head())\n",
    "plt.xticks(rotation='vertical')\n",
    "df['type'].hist()"
   ]
  },
  {
   "cell_type": "markdown",
   "metadata": {},
   "source": [
    "### Where meetings took place\n",
    "\n",
    "We use `value_counts()` to see what are the top locations"
   ]
  },
  {
   "cell_type": "code",
   "execution_count": 38,
   "metadata": {},
   "outputs": [
    {
     "name": "stdout",
     "output_type": "stream",
     "text": [
      "White House         2631\n",
      "By phone             262\n",
      "New York City         76\n",
      "Hamburg, Germany      46\n",
      "Camp David            35\n",
      "Name: place, dtype: int64\n"
     ]
    }
   ],
   "source": [
    "print(df['place'].value_counts().head())"
   ]
  },
  {
   "cell_type": "markdown",
   "metadata": {},
   "source": [
    "### Which parties have access to the WH"
   ]
  },
  {
   "cell_type": "code",
   "execution_count": 41,
   "metadata": {},
   "outputs": [
    {
     "name": "stdout",
     "output_type": "stream",
     "text": [
      "Republican     1043\n",
      "Democrat        219\n",
      "Independent      13\n",
      "Name: party, dtype: int64\n"
     ]
    },
    {
     "data": {
      "text/plain": [
       "<matplotlib.axes._subplots.AxesSubplot at 0x108f3aa90>"
      ]
     },
     "execution_count": 41,
     "metadata": {},
     "output_type": "execute_result"
    },
    {
     "data": {
      "image/png": "[encoded data removed]",
      "text/plain": [
       "<matplotlib.figure.Figure at 0x108ed1080>"
      ]
     },
     "metadata": {},
     "output_type": "display_data"
    }
   ],
   "source": [
    "print(df['party'].value_counts())\n",
    "df['party'].hist()"
   ]
  },
  {
   "cell_type": "code",
   "execution_count": null,
   "metadata": {},
   "outputs": [],
   "source": []
  }
 ],
 "metadata": {
  "kernelspec": {
   "display_name": "Python 3",
   "language": "python",
   "name": "python3"
  },
  "language_info": {
   "codemirror_mode": {
    "name": "ipython",
    "version": 3
   },
   "file_extension": ".py",
   "mimetype": "text/x-python",
   "name": "python",
   "nbconvert_exporter": "python",
   "pygments_lexer": "ipython3",
   "version": "3.6.1"
  }
 },
 "nbformat": 4,
 "nbformat_minor": 2
}
