{
 "cells": [
  {
   "cell_type": "markdown",
   "metadata": {},
   "source": [
    "We import our modules, as usual...\n",
    "\n",
    "In addition to `pandas` and `numpy` (data manipulation and shenanigans), we use `tweepy`, a Twitter API wrapper library."
   ]
  },
  {
   "cell_type": "code",
   "execution_count": 1,
   "metadata": {},
   "outputs": [],
   "source": [
    "import tweepy\n",
    "import pandas as pd\n",
    "import numpy as np"
   ]
  },
  {
   "cell_type": "markdown",
   "metadata": {},
   "source": [
    "The cell below is what your **must not** share with people"
   ]
  },
  {
   "cell_type": "code",
   "execution_count": 2,
   "metadata": {},
   "outputs": [],
   "source": [
    "# Consume:\n",
    "CONSUMER_KEY    = ''\n",
    "CONSUMER_SECRET = ''\n",
    "\n",
    "# Access:\n",
    "ACCESS_TOKEN  = ''\n",
    "ACCESS_SECRET = 'lBpmx0cyGDBZDHuvhuwhag92oPquiseX3li1RWIQJoyon'"
   ]
  },
  {
   "cell_type": "markdown",
   "metadata": {},
   "source": [
    "Copy and paste the code below. It is a function (`def functionName():`, remember?) that takes the variable set above and authenticates you with Twitter. No need to learn or understand that code, that's magic.\n",
    "\n",
    "Note that the function `returns` a thing called `api`. We'll use this as a base for our work."
   ]
  },
  {
   "cell_type": "code",
   "execution_count": 3,
   "metadata": {},
   "outputs": [],
   "source": [
    "# API stup\n",
    "# Utility function to setup the Twitter's API\n",
    "# with our access keys provided.\n",
    "def twitter_setup():\n",
    "    # Authentication and access using keys:\n",
    "    auth = tweepy.OAuthHandler(CONSUMER_KEY, CONSUMER_SECRET)\n",
    "    auth.set_access_token(ACCESS_TOKEN, ACCESS_SECRET)\n",
    "\n",
    "    # Return API with authentication:\n",
    "    api = tweepy.API(auth)\n",
    "    return api"
   ]
  },
  {
   "cell_type": "markdown",
   "metadata": {},
   "source": [
    "# Let the scraping begin"
   ]
  },
  {
   "cell_type": "code",
   "execution_count": 13,
   "metadata": {},
   "outputs": [
    {
     "name": "stdout",
     "output_type": "stream",
     "text": [
      "Number of tweets extracted: 200\n",
      "5 recent tweets:\n",
      "\n",
      "As long as we open our eyes to God’s grace - and open our hearts to God’s love - then America will forever be the l… https://t.co/wGUIaD1JX6\n",
      "\n",
      "I will be meeting with Henry Kissinger at 1:45pm. Will be discussing North Korea, China and the Middle East.\n",
      "\n",
      "Our founders invoked our Creator four times in the Declaration of Independence. Our currency declares “IN GOD WE TR… https://t.co/q8ib233y1M\n",
      "\n",
      "Will be heading over shortly to make remarks at The National Prayer Breakfast in Washington. Great religious and po… https://t.co/bEReTLNLo4\n",
      "\n",
      "The Budget Agreement today is so important for our great Military. It ends the dangerous sequester and gives Secret… https://t.co/VRkKsNDZGC\n",
      "\n"
     ]
    }
   ],
   "source": [
    "# We create an \"extractor\" from our function above:\n",
    "extractor = twitter_setup()\n",
    "\n",
    "# We create a list of tweets as follows:\n",
    "tweets = extractor.user_timeline(screen_name=\"realDonaldTrump\", count=200)\n",
    "print(\"Number of tweets extracted:\", len(tweets))\n",
    "\n",
    "# We print the most recent 5 tweets:\n",
    "print(\"5 recent tweets:\\n\")\n",
    "for tweet in tweets[:5]:\n",
    "    print(tweet.text)\n",
    "    print()\n",
    "    \n",
    "# note that if we had written \n",
    "# for tweet in tweets:\n",
    "# we would have printed all 200 of them"
   ]
  },
  {
   "cell_type": "markdown",
   "metadata": {},
   "source": [
    "We now have a variable `tweets` that contains 200 elements (try running `print(len(tweets))`.\n",
    "\n",
    "Let's throw all of these inside a very handy panda dataframe:"
   ]
  },
  {
   "cell_type": "code",
   "execution_count": 24,
   "metadata": {},
   "outputs": [
    {
     "data": {
      "text/html": [
       "<div>\n",
       "<style scoped>\n",
       "    .dataframe tbody tr th:only-of-type {\n",
       "        vertical-align: middle;\n",
       "    }\n",
       "\n",
       "    .dataframe tbody tr th {\n",
       "        vertical-align: top;\n",
       "    }\n",
       "\n",
       "    .dataframe thead th {\n",
       "        text-align: right;\n",
       "    }\n",
       "</style>\n",
       "<table border=\"1\" class=\"dataframe\">\n",
       "  <thead>\n",
       "    <tr style=\"text-align: right;\">\n",
       "      <th></th>\n",
       "      <th>Tweets</th>\n",
       "    </tr>\n",
       "  </thead>\n",
       "  <tbody>\n",
       "    <tr>\n",
       "      <th>0</th>\n",
       "      <td>As long as we open our eyes to God’s grace - a...</td>\n",
       "    </tr>\n",
       "    <tr>\n",
       "      <th>1</th>\n",
       "      <td>I will be meeting with Henry Kissinger at 1:45...</td>\n",
       "    </tr>\n",
       "    <tr>\n",
       "      <th>2</th>\n",
       "      <td>Our founders invoked our Creator four times in...</td>\n",
       "    </tr>\n",
       "    <tr>\n",
       "      <th>3</th>\n",
       "      <td>Will be heading over shortly to make remarks a...</td>\n",
       "    </tr>\n",
       "    <tr>\n",
       "      <th>4</th>\n",
       "      <td>The Budget Agreement today is so important for...</td>\n",
       "    </tr>\n",
       "    <tr>\n",
       "      <th>5</th>\n",
       "      <td>Congratulations to the Republic of Korea on wh...</td>\n",
       "    </tr>\n",
       "    <tr>\n",
       "      <th>6</th>\n",
       "      <td>Best wishes to the Republic of Korea on hostin...</td>\n",
       "    </tr>\n",
       "    <tr>\n",
       "      <th>7</th>\n",
       "      <td>NEW FBI TEXTS ARE BOMBSHELLS!</td>\n",
       "    </tr>\n",
       "    <tr>\n",
       "      <th>8</th>\n",
       "      <td>In the “old days,” when good news was reported...</td>\n",
       "    </tr>\n",
       "    <tr>\n",
       "      <th>9</th>\n",
       "      <td>Congratulations @ElonMusk and @SpaceX on the s...</td>\n",
       "    </tr>\n",
       "  </tbody>\n",
       "</table>\n",
       "</div>"
      ],
      "text/plain": [
       "                                              Tweets\n",
       "0  As long as we open our eyes to God’s grace - a...\n",
       "1  I will be meeting with Henry Kissinger at 1:45...\n",
       "2  Our founders invoked our Creator four times in...\n",
       "3  Will be heading over shortly to make remarks a...\n",
       "4  The Budget Agreement today is so important for...\n",
       "5  Congratulations to the Republic of Korea on wh...\n",
       "6  Best wishes to the Republic of Korea on hostin...\n",
       "7                      NEW FBI TEXTS ARE BOMBSHELLS!\n",
       "8  In the “old days,” when good news was reported...\n",
       "9  Congratulations @ElonMusk and @SpaceX on the s..."
      ]
     },
     "metadata": {},
     "output_type": "display_data"
    }
   ],
   "source": [
    "# We create a pandas dataframe as follows:\n",
    "data = pd.DataFrame(\n",
    "    data=[tweet.text for tweet in tweets],   # that's an inline for loop, wow\n",
    "    columns=['Tweets']\n",
    ")\n",
    "\n",
    "# We display the first 10 elements of the dataframe:\n",
    "# note that display() is a nicer way to print(), but only works in jupyter notebooks\n",
    "display(data.head(10))"
   ]
  },
  {
   "cell_type": "code",
   "execution_count": 25,
   "metadata": {},
   "outputs": [
    {
     "data": {
      "text/html": [
       "<div>\n",
       "<style scoped>\n",
       "    .dataframe tbody tr th:only-of-type {\n",
       "        vertical-align: middle;\n",
       "    }\n",
       "\n",
       "    .dataframe tbody tr th {\n",
       "        vertical-align: top;\n",
       "    }\n",
       "\n",
       "    .dataframe thead th {\n",
       "        text-align: right;\n",
       "    }\n",
       "</style>\n",
       "<table border=\"1\" class=\"dataframe\">\n",
       "  <thead>\n",
       "    <tr style=\"text-align: right;\">\n",
       "      <th></th>\n",
       "      <th>Tweets</th>\n",
       "      <th>len</th>\n",
       "      <th>Date</th>\n",
       "      <th>Source</th>\n",
       "      <th>Likes</th>\n",
       "      <th>RTs</th>\n",
       "    </tr>\n",
       "  </thead>\n",
       "  <tbody>\n",
       "    <tr>\n",
       "      <th>0</th>\n",
       "      <td>As long as we open our eyes to God’s grace - a...</td>\n",
       "      <td>140</td>\n",
       "      <td>2018-02-08 20:10:58</td>\n",
       "      <td>Twitter for iPad</td>\n",
       "      <td>12872</td>\n",
       "      <td>3990</td>\n",
       "    </tr>\n",
       "    <tr>\n",
       "      <th>1</th>\n",
       "      <td>I will be meeting with Henry Kissinger at 1:45...</td>\n",
       "      <td>108</td>\n",
       "      <td>2018-02-08 18:44:00</td>\n",
       "      <td>Twitter for iPhone</td>\n",
       "      <td>27288</td>\n",
       "      <td>5632</td>\n",
       "    </tr>\n",
       "    <tr>\n",
       "      <th>2</th>\n",
       "      <td>Our founders invoked our Creator four times in...</td>\n",
       "      <td>140</td>\n",
       "      <td>2018-02-08 17:13:13</td>\n",
       "      <td>Twitter for iPad</td>\n",
       "      <td>45152</td>\n",
       "      <td>13373</td>\n",
       "    </tr>\n",
       "    <tr>\n",
       "      <th>3</th>\n",
       "      <td>Will be heading over shortly to make remarks a...</td>\n",
       "      <td>140</td>\n",
       "      <td>2018-02-08 11:08:39</td>\n",
       "      <td>Twitter for iPhone</td>\n",
       "      <td>80936</td>\n",
       "      <td>14543</td>\n",
       "    </tr>\n",
       "    <tr>\n",
       "      <th>4</th>\n",
       "      <td>The Budget Agreement today is so important for...</td>\n",
       "      <td>140</td>\n",
       "      <td>2018-02-07 22:36:15</td>\n",
       "      <td>Twitter for iPhone</td>\n",
       "      <td>95113</td>\n",
       "      <td>20978</td>\n",
       "    </tr>\n",
       "    <tr>\n",
       "      <th>5</th>\n",
       "      <td>Congratulations to the Republic of Korea on wh...</td>\n",
       "      <td>140</td>\n",
       "      <td>2018-02-07 22:13:16</td>\n",
       "      <td>Media Studio</td>\n",
       "      <td>58554</td>\n",
       "      <td>11408</td>\n",
       "    </tr>\n",
       "    <tr>\n",
       "      <th>6</th>\n",
       "      <td>Best wishes to the Republic of Korea on hostin...</td>\n",
       "      <td>140</td>\n",
       "      <td>2018-02-07 18:01:05</td>\n",
       "      <td>Media Studio</td>\n",
       "      <td>57067</td>\n",
       "      <td>11571</td>\n",
       "    </tr>\n",
       "    <tr>\n",
       "      <th>7</th>\n",
       "      <td>NEW FBI TEXTS ARE BOMBSHELLS!</td>\n",
       "      <td>29</td>\n",
       "      <td>2018-02-07 16:10:00</td>\n",
       "      <td>Twitter for iPhone</td>\n",
       "      <td>127303</td>\n",
       "      <td>38010</td>\n",
       "    </tr>\n",
       "    <tr>\n",
       "      <th>8</th>\n",
       "      <td>In the “old days,” when good news was reported...</td>\n",
       "      <td>140</td>\n",
       "      <td>2018-02-07 14:59:49</td>\n",
       "      <td>Twitter for iPhone</td>\n",
       "      <td>100844</td>\n",
       "      <td>20404</td>\n",
       "    </tr>\n",
       "    <tr>\n",
       "      <th>9</th>\n",
       "      <td>Congratulations @ElonMusk and @SpaceX on the s...</td>\n",
       "      <td>140</td>\n",
       "      <td>2018-02-07 03:05:45</td>\n",
       "      <td>Twitter for iPhone</td>\n",
       "      <td>157554</td>\n",
       "      <td>30313</td>\n",
       "    </tr>\n",
       "  </tbody>\n",
       "</table>\n",
       "</div>"
      ],
      "text/plain": [
       "                                              Tweets  len                Date  \\\n",
       "0  As long as we open our eyes to God’s grace - a...  140 2018-02-08 20:10:58   \n",
       "1  I will be meeting with Henry Kissinger at 1:45...  108 2018-02-08 18:44:00   \n",
       "2  Our founders invoked our Creator four times in...  140 2018-02-08 17:13:13   \n",
       "3  Will be heading over shortly to make remarks a...  140 2018-02-08 11:08:39   \n",
       "4  The Budget Agreement today is so important for...  140 2018-02-07 22:36:15   \n",
       "5  Congratulations to the Republic of Korea on wh...  140 2018-02-07 22:13:16   \n",
       "6  Best wishes to the Republic of Korea on hostin...  140 2018-02-07 18:01:05   \n",
       "7                      NEW FBI TEXTS ARE BOMBSHELLS!   29 2018-02-07 16:10:00   \n",
       "8  In the “old days,” when good news was reported...  140 2018-02-07 14:59:49   \n",
       "9  Congratulations @ElonMusk and @SpaceX on the s...  140 2018-02-07 03:05:45   \n",
       "\n",
       "               Source   Likes    RTs  \n",
       "0    Twitter for iPad   12872   3990  \n",
       "1  Twitter for iPhone   27288   5632  \n",
       "2    Twitter for iPad   45152  13373  \n",
       "3  Twitter for iPhone   80936  14543  \n",
       "4  Twitter for iPhone   95113  20978  \n",
       "5        Media Studio   58554  11408  \n",
       "6        Media Studio   57067  11571  \n",
       "7  Twitter for iPhone  127303  38010  \n",
       "8  Twitter for iPhone  100844  20404  \n",
       "9  Twitter for iPhone  157554  30313  "
      ]
     },
     "metadata": {},
     "output_type": "display_data"
    }
   ],
   "source": [
    "# We add relevant data to our data frame\n",
    "data['len']  = np.array([len(tweet.text) for tweet in tweets])\n",
    "# data['ID']   = np.array([tweet.id for tweet in tweets])\n",
    "data['Date'] = np.array([tweet.created_at for tweet in tweets])\n",
    "data['Source'] = np.array([tweet.source for tweet in tweets])\n",
    "data['Likes']  = np.array([tweet.favorite_count for tweet in tweets])\n",
    "data['RTs']    = np.array([tweet.retweet_count for tweet in tweets])\n",
    "\n",
    "# Display of first 10 elements from dataframe:\n",
    "display(data.head(10))"
   ]
  },
  {
   "cell_type": "markdown",
   "metadata": {},
   "source": [
    "The above way of building our data frame is strictly equivalent to what is below.\n",
    "It is, however, more elegant, shorter, and makes better use of handy methods, eg `np.array`"
   ]
  },
  {
   "cell_type": "code",
   "execution_count": 29,
   "metadata": {},
   "outputs": [
    {
     "data": {
      "text/html": [
       "<div>\n",
       "<style scoped>\n",
       "    .dataframe tbody tr th:only-of-type {\n",
       "        vertical-align: middle;\n",
       "    }\n",
       "\n",
       "    .dataframe tbody tr th {\n",
       "        vertical-align: top;\n",
       "    }\n",
       "\n",
       "    .dataframe thead th {\n",
       "        text-align: right;\n",
       "    }\n",
       "</style>\n",
       "<table border=\"1\" class=\"dataframe\">\n",
       "  <thead>\n",
       "    <tr style=\"text-align: right;\">\n",
       "      <th></th>\n",
       "      <th>text</th>\n",
       "    </tr>\n",
       "  </thead>\n",
       "  <tbody>\n",
       "    <tr>\n",
       "      <th>0</th>\n",
       "      <td>As long as we open our eyes to God’s grace - a...</td>\n",
       "    </tr>\n",
       "    <tr>\n",
       "      <th>1</th>\n",
       "      <td>I will be meeting with Henry Kissinger at 1:45...</td>\n",
       "    </tr>\n",
       "    <tr>\n",
       "      <th>2</th>\n",
       "      <td>Our founders invoked our Creator four times in...</td>\n",
       "    </tr>\n",
       "    <tr>\n",
       "      <th>3</th>\n",
       "      <td>Will be heading over shortly to make remarks a...</td>\n",
       "    </tr>\n",
       "    <tr>\n",
       "      <th>4</th>\n",
       "      <td>The Budget Agreement today is so important for...</td>\n",
       "    </tr>\n",
       "  </tbody>\n",
       "</table>\n",
       "</div>"
      ],
      "text/plain": [
       "                                                text\n",
       "0  As long as we open our eyes to God’s grace - a...\n",
       "1  I will be meeting with Henry Kissinger at 1:45...\n",
       "2  Our founders invoked our Creator four times in...\n",
       "3  Will be heading over shortly to make remarks a...\n",
       "4  The Budget Agreement today is so important for..."
      ]
     },
     "metadata": {},
     "output_type": "display_data"
    }
   ],
   "source": [
    "data_second = {}        # empty store that we'll populate last\n",
    "texts = []       # tweet copy\n",
    "lens = []\n",
    "# (...)\n",
    "\n",
    "# for each tweet I populate my lists with the data I want...\n",
    "for tweet in tweets:\n",
    "    texts.append(tweet.text)\n",
    "    lens.append(len(tweet.text))\n",
    "    \n",
    "# then I add key: value pais as columns one by one...\n",
    "data_second['text'] = texts\n",
    "# how would I add all my lengths to my data object?\n",
    "\n",
    "# and finally I get my data frame\n",
    "display(pd.DataFrame(data=data_second).head(5))"
   ]
  },
  {
   "cell_type": "markdown",
   "metadata": {},
   "source": [
    "### back to business"
   ]
  },
  {
   "cell_type": "code",
   "execution_count": 33,
   "metadata": {},
   "outputs": [
    {
     "name": "stdout",
     "output_type": "stream",
     "text": [
      "The tweet with more likes is:  Somebody please inform Jay-Z that because of my policies, Black Unemployment has just been reported to be at the LOWEST RATE EVER RECORDED!\n",
      "Number of likes:  240428\n",
      "The tweet with more retweets is:  Somebody please inform Jay-Z that because of my policies, Black Unemployment has just been reported to be at the LOWEST RATE EVER RECORDED!\n",
      "Number of retweets: {} 64275\n"
     ]
    }
   ],
   "source": [
    "# We extract the tweet with more FAVs and more RTs:\n",
    "\n",
    "fav_max = np.max(data['Likes'])  # print(fav_max)\n",
    "rt_max  = np.max(data['RTs'])    # print(rt_max)\n",
    "\n",
    "fav = data[data.Likes == fav_max].index[0]\n",
    "rt  = data[data.RTs == rt_max].index[0]\n",
    "\n",
    "# Max FAVs:\n",
    "print(\"The tweet with more likes is: \", data['Tweets'][fav])\n",
    "print(\"Number of likes: \", fav_max)\n",
    "\n",
    "# Max RTs:\n",
    "print(\"The tweet with more retweets is: \", data['Tweets'][rt])\n",
    "print(\"Number of retweets: {}\", rt_max)\n"
   ]
  },
  {
   "cell_type": "markdown",
   "metadata": {},
   "source": [
    "# some vizzz"
   ]
  },
  {
   "cell_type": "code",
   "execution_count": 10,
   "metadata": {},
   "outputs": [],
   "source": [
    "# the modules we need for this: \n",
    "# pip3 install matplotlib seaborn\n",
    "# for plotting and visualization:\n",
    "from IPython.display import display\n",
    "import matplotlib.pyplot as plt\n",
    "import seaborn as sns\n",
    "%matplotlib inline"
   ]
  },
  {
   "cell_type": "markdown",
   "metadata": {},
   "source": [
    "### number of favs over time\n",
    "\n",
    "we only need to plot one column of the dataframe, so we can use a pandas [Series](https://stackoverflow.com/questions/26047209/what-is-the-difference-between-a-pandas-series-and-a-single-column-dataframe)\n",
    "\n",
    "> the Series is the datastructure for a single column of a DataFrame, not only conceptually, but literally i.e. the data in a DataFrame is actually stored in memory as a collection of Series. "
   ]
  },
  {
   "cell_type": "code",
   "execution_count": 37,
   "metadata": {},
   "outputs": [
    {
     "data": {
      "image/png": "[encoded data removed]",
      "text/plain": [
       "<matplotlib.figure.Figure at 0x10f1190f0>"
      ]
     },
     "metadata": {},
     "output_type": "display_data"
    }
   ],
   "source": [
    "number_of_favs = pd.Series(\n",
    "    data=data['Likes'].values, \n",
    "    index=data['Date'])\n",
    "\n",
    "number_of_favs.plot(figsize=(16,4), color='r');\n"
   ]
  },
  {
   "cell_type": "code",
   "execution_count": 38,
   "metadata": {},
   "outputs": [
    {
     "data": {
      "image/png": "[encoded data removed]",
      "text/plain": [
       "<matplotlib.figure.Figure at 0x10fff4400>"
      ]
     },
     "metadata": {},
     "output_type": "display_data"
    }
   ],
   "source": [
    "number_of_rts = pd.Series(data=data['RTs'].values, index=data['Date'])\n",
    "number_of_rts.plot(figsize=(16,4), label=\"Retweets\", legend=True);"
   ]
  },
  {
   "cell_type": "code",
   "execution_count": 14,
   "metadata": {},
   "outputs": [
    {
     "name": "stdout",
     "output_type": "stream",
     "text": [
      "Creation of content sources:\n",
      "* Twitter for iPhone\n",
      "* Twitter for iPad\n",
      "* Media Studio\n",
      "* Twitter Web Client\n"
     ]
    }
   ],
   "source": [
    "# We obtain all possible sources:\n",
    "sources = []\n",
    "for source in data['Source']:\n",
    "    if source not in sources:\n",
    "        sources.append(source)\n",
    "\n",
    "# We print sources list:\n",
    "print(\"Creation of content sources:\")\n",
    "for source in sources:\n",
    "    print(\"* {}\".format(source))"
   ]
  },
  {
   "cell_type": "code",
   "execution_count": 15,
   "metadata": {},
   "outputs": [
    {
     "data": {
      "image/png": "[encoded data removed]",
      "text/plain": [
       "<matplotlib.figure.Figure at 0x10dd986a0>"
      ]
     },
     "metadata": {},
     "output_type": "display_data"
    }
   ],
   "source": [
    "# We create a numpy vector mapped to labels:\n",
    "percent = np.zeros(len(sources))\n",
    "\n",
    "for source in data['Source']:\n",
    "    for index in range(len(sources)):\n",
    "        if source == sources[index]:\n",
    "            percent[index] += 1\n",
    "            pass\n",
    "\n",
    "percent /= 100\n",
    "\n",
    "# Pie chart:\n",
    "pie_chart = pd.Series(percent, index=sources, name='Sources')\n",
    "pie_chart.plot.pie(fontsize=11, autopct='%.2f', figsize=(6, 6));"
   ]
  },
  {
   "cell_type": "code",
   "execution_count": null,
   "metadata": {},
   "outputs": [],
   "source": []
  }
 ],
 "metadata": {
  "kernelspec": {
   "display_name": "Python 3",
   "language": "python",
   "name": "python3"
  },
  "language_info": {
   "codemirror_mode": {
    "name": "ipython",
    "version": 3
   },
   "file_extension": ".py",
   "mimetype": "text/x-python",
   "name": "python",
   "nbconvert_exporter": "python",
   "pygments_lexer": "ipython3",
   "version": "3.6.1"
  }
 },
 "nbformat": 4,
 "nbformat_minor": 2
}
