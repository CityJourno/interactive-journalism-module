{
 "cells": [
  {
   "cell_type": "markdown",
   "metadata": {},
   "source": [
    "# Scraping traitors\n",
    "\n",
    "### The 122 MPs who voted against Article 50\n",
    "Source: Guido: https://order-order.com/2017/02/08/named-122-mps-voted-brexit/\n",
    "\n",
    "Output:\n",
    "\n",
    "```\n",
    "MP,Party,Constituency\n",
    "Ms Tasmina Ahmed-Sheikh ,SNP,Ochil and South Perthshire\n",
    "Heidi Alexander ,Labour,Lewisham East\n",
    "Rushanara Ali ,Labour,Bethnal Green and Bow\n",
    "Mr Graham Allen ,Labour,Nottingham North\n",
    "```"
   ]
  },
  {
   "cell_type": "markdown",
   "metadata": {},
   "source": [
    "We start by importing our modules.\n",
    "\n",
    "* `BeautifulSoup` is our scraper and parser\n",
    "* `requests` is to fetch HTML content from the internets\n",
    "* `csv` will help us parse and write a CSV file at the end"
   ]
  },
  {
   "cell_type": "code",
   "execution_count": 2,
   "metadata": {},
   "outputs": [],
   "source": [
    "from bs4 import BeautifulSoup\n",
    "import requests\n",
    "import csv\n",
    "import os"
   ]
  },
  {
   "cell_type": "code",
   "execution_count": 3,
   "metadata": {},
   "outputs": [],
   "source": [
    "# We store the URL of the content we'll want to scrape in a variable\n",
    "url = 'https://order-order.com/2017/02/08/named-122-mps-voted-brexit/'"
   ]
  },
  {
   "cell_type": "markdown",
   "metadata": {},
   "source": [
    "Let's just check that our request went through fine.\n",
    "We're expecting a status code of 200, and a True statement when checking this status code is actually '200'"
   ]
  },
  {
   "cell_type": "code",
   "execution_count": 4,
   "metadata": {},
   "outputs": [
    {
     "name": "stdout",
     "output_type": "stream",
     "text": [
      "Status code: (200 is good): 200\n",
      "Is out status code 200?\n",
      "True\n"
     ]
    }
   ],
   "source": [
    "# GET request for the URL content\n",
    "response = requests.get(url)\n",
    "\n",
    "# the response has methods and parameters, such as its status\n",
    "# docs: http://docs.python-requests.org/en/master/\n",
    "print(\"Status code: (200 is good):\", response.status_code)\n",
    "\n",
    "if response.status_code is 200:\n",
    "    print(\"Is out status code 200?\")\n",
    "    print(True)\n",
    "else:\n",
    "    print(\"ERROR! aborting\")\n",
    "    sys.exit()"
   ]
  },
  {
   "cell_type": "markdown",
   "metadata": {},
   "source": [
    "We then proceed to parsing the HTML document so we can pass it through `BeautifulSoup` parser.\n",
    "According to the [documentation](https://www.crummy.com/software/BeautifulSoup/bs4/doc/):\n",
    "\n",
    "> Beautiful Soup gives us a BeautifulSoup object, which represents the document as a nested data structure"
   ]
  },
  {
   "cell_type": "code",
   "execution_count": 6,
   "metadata": {},
   "outputs": [],
   "source": [
    "# parses the HTML\n",
    "html = response.content\n",
    "\n",
    "# magic beautifulsoup method\n",
    "soup = BeautifulSoup(html, 'lxml')"
   ]
  },
  {
   "cell_type": "markdown",
   "metadata": {},
   "source": [
    "Much like we did last week, we can now navigate this nested, tree-like structure.\n",
    "\n",
    "In this instance, Guido's list is made of two (sadly) `<blockquote>` elements that contain the lists of MPs. Let's grab those...\n"
   ]
  },
  {
   "cell_type": "code",
   "execution_count": 80,
   "metadata": {},
   "outputs": [
    {
     "name": "stdout",
     "output_type": "stream",
     "text": [
      "2 blockquote elements found\n"
     ]
    }
   ],
   "source": [
    "# find a <blockquote> element with a given HTML class\n",
    "# and store it into a variable\n",
    "blockquotes = soup.findAll('blockquote')\n",
    "print(len(blockquotes), 'blockquote elements found')"
   ]
  },
  {
   "cell_type": "markdown",
   "metadata": {},
   "source": [
    "### The nitty-gritty bit\n",
    "\n",
    "We now have `blockquotes`, a list, containing two elements.\n",
    "\n",
    "Each of these contains a set of `<em>` elements, which each contain an MP, their party, and their constituency.\n",
    "\n",
    "We are going to iterate over all of those, in order:\n",
    "\n",
    "* For each of the blockquote list,\n",
    "    * Find all `<em>` elements\n",
    "    * Do things with them\n",
    "    \n",
    "We need two `for` loops, one inside the other.\n"
   ]
  },
  {
   "cell_type": "code",
   "execution_count": 81,
   "metadata": {},
   "outputs": [],
   "source": [
    "# empty list\n",
    "# [row one, row two, row three, etc.]\n",
    "list_of_rows = []\n",
    "\n",
    "# control flow: for loop\n",
    "# find all <em> elements\n",
    "# the append method appends data to the above lists\n",
    "for blockquote in blockquotes:\n",
    "    \n",
    "    for row in blockquote.findAll('em'):\n",
    "        \n",
    "        row = row.text.encode('utf-8')\n",
    "        "
   ]
  },
  {
   "cell_type": "markdown",
   "metadata": {},
   "source": [
    "If we print `row` at this stage, we'll see each line from the blog post.\n",
    "\n",
    "We are going to split these strings, because they're all formatted the same way.\n",
    "\n",
    "With the `split()` method, we give it a character where to split, and Python gives us a list of the two bits it split.\n",
    "\n",
    "When we split at the first bracket, we get the MP's name first (remember, the first item is `[0]`), then the party and constituency, that we need to split again on the hyphen."
   ]
  },
  {
   "cell_type": "code",
   "execution_count": 88,
   "metadata": {},
   "outputs": [],
   "source": [
    "        split_row = row.decode('utf-8').split('(')\n",
    "        \n",
    "        # list of MPs\n",
    "        mps = split_row[0]\n",
    "        # list of constituencies\n",
    "        party = split_row[1].split(' – ')[0]\n",
    "        \n",
    "        # Gotcha: sometimes our array splits somewhere else: see Labour (Co-op)\n",
    "        if len(split_row) > 2:\n",
    "            party = 'Labour (Co-op)'\n",
    "            constituency = split_row[2].replace(\"Co-op) – \", \"\")\n",
    "        else:\n",
    "            #print(split_row[1].split(' – '))\n",
    "            try:\n",
    "                constituency = split_row[1].split(' – ')[1]\n",
    "                constituency = constituency[:-1]\n",
    "            except:\n",
    "                constituency = split_row[1].split('-')[1]\n",
    "                constituency = constituency[:-1]\n",
    "                party = split_row[1].split('-')[0]\n"
   ]
  },
  {
   "cell_type": "markdown",
   "metadata": {},
   "source": [
    "We created three variables: `mps`, `party`, and `constituency`.\n",
    "\n",
    "Our big list that will contain everything is `list_of_rows`, that we created outside of the `for` loops.\n",
    "\n",
    "Because we want to add complete, comma-separated list of mps to this list of rows, we create a temporary empty list and append each of these components indivudally, before appending the whole line to the master list."
   ]
  },
  {
   "cell_type": "code",
   "execution_count": 84,
   "metadata": {},
   "outputs": [],
   "source": [
    "        # build our row\n",
    "        list_of_cells = []\n",
    "        list_of_cells.append(mps)\n",
    "        list_of_cells.append(party)\n",
    "        list_of_cells.append(constituency)\n",
    "        \n",
    "        #print list_of_cells\n",
    "        list_of_rows.append(list_of_cells)"
   ]
  },
  {
   "cell_type": "markdown",
   "metadata": {},
   "source": [
    "We want our script to output a CSV file. In Python world, we need to instantiate a CSV writer.\n",
    "\n",
    "This writer takes in a list, eg `[1,2,3]`, and writes this as a line.\n",
    "\n",
    "If more than one list is passed to it, it will write each list on a separate line.\n",
    "\n",
    "We start by putting in the column names, and then we append, row by row thanks to `writerows` our big list of data."
   ]
  },
  {
   "cell_type": "code",
   "execution_count": 89,
   "metadata": {},
   "outputs": [],
   "source": [
    "with open('data.csv', 'w') as outfile:\n",
    "    writer = csv.writer(outfile)\n",
    "    writer.writerow(['MP', 'Party', 'Constituency'])\n",
    "    writer.writerows(list_of_rows)"
   ]
  },
  {
   "cell_type": "code",
   "execution_count": null,
   "metadata": {
    "collapsed": true
   },
   "outputs": [],
   "source": []
  }
 ],
 "metadata": {
  "kernelspec": {
   "display_name": "Python 3",
   "language": "python",
   "name": "python3"
  },
  "language_info": {
   "codemirror_mode": {
    "name": "ipython",
    "version": 3
   },
   "file_extension": ".py",
   "mimetype": "text/x-python",
   "name": "python",
   "nbconvert_exporter": "python",
   "pygments_lexer": "ipython3",
   "version": "3.6.1"
  }
 },
 "nbformat": 4,
 "nbformat_minor": 2
}
